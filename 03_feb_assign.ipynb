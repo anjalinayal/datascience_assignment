{
 "cells": [
  {
   "cell_type": "code",
   "execution_count": 3,
   "id": "c5ca2d8a-2a41-4bbc-92e0-2baa94989242",
   "metadata": {},
   "outputs": [
    {
     "name": "stdout",
     "output_type": "stream",
     "text": [
      "1 is odd\n",
      "3 is odd\n",
      "5 is odd\n",
      "7 is odd\n",
      "9 is odd\n",
      "11 is odd\n",
      "13 is odd\n",
      "15 is odd\n",
      "17 is odd\n",
      "19 is odd\n",
      "21 is odd\n",
      "23 is odd\n",
      "25 is odd\n"
     ]
    }
   ],
   "source": [
    "# q1 -Def keyword is used for function creation\n",
    "def odd():\n",
    "    for i in range(0,26):\n",
    "        if i%2!=0:\n",
    "            print(i,\"is odd\")\n",
    "\n",
    "odd()\n"
   ]
  },
  {
   "cell_type": "code",
   "execution_count": 2,
   "id": "6d54e7ea-e84b-4698-b025-2bce9d571eaa",
   "metadata": {},
   "outputs": [
    {
     "data": {
      "text/plain": [
       "' Q2 :- args and kwarge is used to pass multiple argument to the function\\n*args is used to pass multiple arguments using tuples whereas **kwargs is used to pass multiple key value arguments in a function '"
      ]
     },
     "execution_count": 2,
     "metadata": {},
     "output_type": "execute_result"
    }
   ],
   "source": [
    "''' Q2 :- args and kwarge is used to pass multiple argument to the function\n",
    "*args is used to pass multiple arguments using tuples whereas **kwargs is used to pass multiple key value arguments in a function '''\n"
   ]
  },
  {
   "cell_type": "code",
   "execution_count": 6,
   "id": "92492b6c-e919-4a05-b68e-95b7d6200748",
   "metadata": {},
   "outputs": [],
   "source": [
    "def test(*args):\n",
    "    return args"
   ]
  },
  {
   "cell_type": "code",
   "execution_count": 7,
   "id": "e4823071-4b52-4405-91e1-657370d78a0c",
   "metadata": {},
   "outputs": [
    {
     "data": {
      "text/plain": [
       "(1, 2, 3, 4, 5, 'anj')"
      ]
     },
     "execution_count": 7,
     "metadata": {},
     "output_type": "execute_result"
    }
   ],
   "source": [
    "test(1,2,3,4,5,\"a\")"
   ]
  },
  {
   "cell_type": "code",
   "execution_count": 10,
   "id": "9df0154d-e812-4053-96f0-f84fab95ed16",
   "metadata": {},
   "outputs": [],
   "source": [
    "def test1(**kwargs):\n",
    "    \"\"\"returns key and values of the input seperately\"\"\"\n",
    "    k=[]\n",
    "    v=[]\n",
    "    k.append(kwargs.keys())\n",
    "    v.append(kwargs.values())\n",
    "    return k,v"
   ]
  },
  {
   "cell_type": "code",
   "execution_count": 11,
   "id": "0f8a0fa7-afb7-4d33-9796-bec546ca8457",
   "metadata": {},
   "outputs": [
    {
     "data": {
      "text/plain": [
       "([dict_keys(['a', 'b', 'c', 'd'])], [dict_values(['hi', 'value', 4, 5.5])])"
      ]
     },
     "execution_count": 11,
     "metadata": {},
     "output_type": "execute_result"
    }
   ],
   "source": [
    "test1(a=\"hi\",b=\"value\",c=4,d=5.5)"
   ]
  },
  {
   "cell_type": "code",
   "execution_count": null,
   "id": "15663b8e-1926-4bb1-b913-0e01525f7b9f",
   "metadata": {},
   "outputs": [],
   "source": []
  },
  {
   "cell_type": "code",
   "execution_count": 2,
   "id": "6fc89a0f-11e4-4a65-b51a-f52bdc9a629e",
   "metadata": {},
   "outputs": [
    {
     "name": "stdout",
     "output_type": "stream",
     "text": [
      "2\n",
      "4\n",
      "6\n",
      "8\n",
      "10\n"
     ]
    }
   ],
   "source": [
    "'''Q3 An iterator is an object that contains a countable number of values. \n",
    "An iterator is an object that can be iterated upon, meaning that you can \n",
    "traverse through all the values.Methods used to initialise the iterator \n",
    "object are __init__() and __next__() '''\n",
    "l= [2, 4, 6, 8, 10, 12, 14, 16, 18, 20]\n",
    "l1=iter(l)\n",
    "for i in range (0,5):\n",
    "    print(next(l1))"
   ]
  },
  {
   "cell_type": "code",
   "execution_count": null,
   "id": "5a58aa19-994d-4e8e-8fab-04a569a0bc56",
   "metadata": {},
   "outputs": [],
   "source": []
  },
  {
   "cell_type": "code",
   "execution_count": 23,
   "id": "0bfc6cf4-6716-4764-9545-08ab089543ce",
   "metadata": {},
   "outputs": [],
   "source": [
    "#question 4\n",
    "'''generator functions are used to optimize the memory consumotion this type of function will use less memory as it will\n",
    "provide the output one by one instead of creating a single list of all outputs at once which occupies more memory space'''\n",
    "def gen(l):\n",
    "    '''generator funtion to get even int in a list'''\n",
    "    for i in l:\n",
    "        if type(i)==int and i%2==0:\n",
    "            yield i"
   ]
  },
  {
   "cell_type": "code",
   "execution_count": 20,
   "id": "a9f5485c-ab82-493f-ab87-6d83accb0849",
   "metadata": {},
   "outputs": [
    {
     "name": "stdout",
     "output_type": "stream",
     "text": [
      "2\n",
      "4\n",
      "6\n",
      "6\n",
      "8\n"
     ]
    }
   ],
   "source": [
    "for i in gen([1,2,3,4,5,6,6,7,8]):\n",
    "    print(i)"
   ]
  },
  {
   "cell_type": "code",
   "execution_count": 40,
   "id": "59d508ac-33d3-433c-8f6b-b373064b26cd",
   "metadata": {},
   "outputs": [
    {
     "data": {
      "text/plain": [
       "2"
      ]
     },
     "execution_count": 40,
     "metadata": {},
     "output_type": "execute_result"
    }
   ],
   "source": [
    "#question 5\n",
    "def gen2():\n",
    "    r=[]\n",
    "    for i in range (1,1001):\n",
    "        count=0\n",
    "        for j in range (2,(i//2 +1)):\n",
    "            if i%j==0:\n",
    "                count = count + 1\n",
    "                break\n",
    "        if count==0 and i!=1 :\n",
    "            return i\n",
    "    \n",
    "    #return r\n",
    "\n",
    "gen2()"
   ]
  },
  {
   "cell_type": "code",
   "execution_count": null,
   "id": "ce201493-e7b9-402a-920b-381d815b4314",
   "metadata": {},
   "outputs": [],
   "source": []
  },
  {
   "cell_type": "code",
   "execution_count": 21,
   "id": "924e9ad1-2d96-4e34-8c81-eb635c495ed5",
   "metadata": {},
   "outputs": [],
   "source": [
    "# prime=gen2()\n",
    "# for i in range(20):\n",
    "#     print(next(prime))"
   ]
  },
  {
   "cell_type": "code",
   "execution_count": null,
   "id": "df831328-3590-4d84-88af-f8007c5d0cfd",
   "metadata": {},
   "outputs": [],
   "source": []
  },
  {
   "cell_type": "code",
   "execution_count": 10,
   "id": "2493fa4a-fb17-4854-8c84-50b26663fa0b",
   "metadata": {},
   "outputs": [
    {
     "name": "stdout",
     "output_type": "stream",
     "text": [
      "0\n",
      "1\n",
      "1\n",
      "2\n",
      "3\n",
      "5\n",
      "8\n",
      "13\n",
      "21\n",
      "34\n"
     ]
    }
   ],
   "source": [
    "# Q6\n",
    "def febo():\n",
    "    a=0\n",
    "    b=1\n",
    "    i=0\n",
    "    while i<10:\n",
    "        c=a+b\n",
    "        print(a)\n",
    "        a=b\n",
    "        b=c\n",
    "        i=i+1\n",
    "febo()  \n",
    "        \n"
   ]
  },
  {
   "cell_type": "code",
   "execution_count": 15,
   "id": "acf4bbb8-dbea-4718-92a5-b0bec7013565",
   "metadata": {},
   "outputs": [
    {
     "name": "stdout",
     "output_type": "stream",
     "text": [
      "['p', 'w', 's', 'k', 'i', 'l', 'l', 's']\n"
     ]
    }
   ],
   "source": [
    "#question 7\n",
    "s=\"pwskills\"\n",
    "l=[]\n",
    "for i in s:\n",
    "    l.append(i)\n",
    "print(l)\n",
    "    "
   ]
  },
  {
   "cell_type": "code",
   "execution_count": 20,
   "id": "23122e8e-f945-47d5-bbce-f7477acdb51a",
   "metadata": {},
   "outputs": [
    {
     "name": "stdin",
     "output_type": "stream",
     "text": [
      "enter a number to check paladrom 1771\n"
     ]
    },
    {
     "name": "stdout",
     "output_type": "stream",
     "text": [
      "yes\n"
     ]
    }
   ],
   "source": [
    "#question 8\n",
    "num=list(input(\"enter a number to check paladrom\"))\n",
    "num_reverse=num[::-1]\n",
    "i=0\n",
    "while i<len(num):\n",
    "    if num==num_reverse:\n",
    "        print(\"it is a palandrom number\")\n",
    "    else:\n",
    "        print(\"it is not a paldrom number\")"
   ]
  },
  {
   "cell_type": "code",
   "execution_count": 3,
   "id": "b562f0b6-4578-4607-bb87-bc154b8aff50",
   "metadata": {},
   "outputs": [
    {
     "data": {
      "text/plain": [
       "[1,\n",
       " 3,\n",
       " 5,\n",
       " 7,\n",
       " 9,\n",
       " 11,\n",
       " 13,\n",
       " 15,\n",
       " 17,\n",
       " 19,\n",
       " 21,\n",
       " 23,\n",
       " 25,\n",
       " 27,\n",
       " 29,\n",
       " 31,\n",
       " 33,\n",
       " 35,\n",
       " 37,\n",
       " 39,\n",
       " 41,\n",
       " 43,\n",
       " 45,\n",
       " 47,\n",
       " 49,\n",
       " 51,\n",
       " 53,\n",
       " 55,\n",
       " 57,\n",
       " 59,\n",
       " 61,\n",
       " 63,\n",
       " 65,\n",
       " 67,\n",
       " 69,\n",
       " 71,\n",
       " 73,\n",
       " 75,\n",
       " 77,\n",
       " 79,\n",
       " 81,\n",
       " 83,\n",
       " 85,\n",
       " 87,\n",
       " 89,\n",
       " 91,\n",
       " 93,\n",
       " 95,\n",
       " 97,\n",
       " 99]"
      ]
     },
     "execution_count": 3,
     "metadata": {},
     "output_type": "execute_result"
    }
   ],
   "source": [
    "#question 9\n",
    "l=[i for i in range(1,101)]\n",
    "[i for i in l if i%2!=0]"
   ]
  },
  {
   "cell_type": "code",
   "execution_count": null,
   "id": "f28add97-eb43-47e6-aa7a-67105b663686",
   "metadata": {},
   "outputs": [],
   "source": []
  }
 ],
 "metadata": {
  "kernelspec": {
   "display_name": "Python 3 (ipykernel)",
   "language": "python",
   "name": "python3"
  },
  "language_info": {
   "codemirror_mode": {
    "name": "ipython",
    "version": 3
   },
   "file_extension": ".py",
   "mimetype": "text/x-python",
   "name": "python",
   "nbconvert_exporter": "python",
   "pygments_lexer": "ipython3",
   "version": "3.10.8"
  }
 },
 "nbformat": 4,
 "nbformat_minor": 5
}
